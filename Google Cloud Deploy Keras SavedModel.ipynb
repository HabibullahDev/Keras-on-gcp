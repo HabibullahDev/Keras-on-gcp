{
 "cells": [
  {
   "cell_type": "code",
   "execution_count": 4,
   "metadata": {},
   "outputs": [
    {
     "name": "stdout",
     "output_type": "stream",
     "text": [
      "gs://new-bucket17/\r\n"
     ]
    }
   ],
   "source": [
    "# List Bucket Name\n",
    "!gsutil ls"
   ]
  },
  {
   "cell_type": "code",
   "execution_count": 5,
   "metadata": {},
   "outputs": [
    {
     "name": "stdout",
     "output_type": "stream",
     "text": [
      "PROJECT_ID                 NAME                       PROJECT_NUMBER\r\n",
      "fir-setup-37e0b            FirebaseSetup              272296681318\r\n",
      "imagerectest-190218        imageRecTest               827628162379\r\n",
      "kerasdeploymenttutorial    KerasDeploymentTutorial    1067904841878\r\n",
      "new-project-276117         new-project                1067246621448\r\n",
      "pokemon-cover              Pokemon Cover              640080155091\r\n",
      "reading-firebase-database  Reading Firebase Database  750997412773\r\n"
     ]
    }
   ],
   "source": [
    "# List Project Names (we're using new-project-276117)\n",
    "!gcloud projects list"
   ]
  },
  {
   "cell_type": "code",
   "execution_count": 1,
   "metadata": {},
   "outputs": [
    {
     "name": "stdout",
     "output_type": "stream",
     "text": [
      "Copying file://my_model/saved_model.pb [Content-Type=application/octet-stream]...\n",
      "Copying file://my_model/variables/variables.index [Content-Type=application/octet-stream]...\n",
      "Copying file://my_model/variables/variables.data-00000-of-00001 [Content-Type=application/octet-stream]...\n",
      "\\ [3 files][782.8 KiB/782.8 KiB]  136.4 KiB/s                                   \n",
      "Operation completed over 3 objects/782.8 KiB.                                    \n"
     ]
    }
   ],
   "source": [
    "# Copy trained model to gcloud bucket (assumes SavedModel is in directory \"./mymodel\")\n",
    "!gsutil cp -r my_model gs://new-bucket17"
   ]
  },
  {
   "cell_type": "code",
   "execution_count": 2,
   "metadata": {},
   "outputs": [
    {
     "name": "stdout",
     "output_type": "stream",
     "text": [
      "gs://new-bucket17/my_model/:\n",
      "gs://new-bucket17/my_model/saved_model.pb\n",
      "\n",
      "gs://new-bucket17/my_model/variables/:\n",
      "gs://new-bucket17/my_model/variables/variables.data-00000-of-00001\n",
      "gs://new-bucket17/my_model/variables/variables.index\n"
     ]
    }
   ],
   "source": [
    "# Show my_model SavedModel directory is in gcloud\n",
    "!gsutil ls -r gs://new-bucket17"
   ]
  },
  {
   "cell_type": "code",
   "execution_count": 5,
   "metadata": {},
   "outputs": [],
   "source": [
    "# Parameters for model deploy\n",
    "MODEL_DIR=\"gs://new-bucket17/my_model\"\n",
    "VERSION_NAME = \"v2\"\n",
    "MODEL_NAME = \"my_model\"\n",
    "FRAMEWORK = \"TENSORFLOW\""
   ]
  },
  {
   "cell_type": "code",
   "execution_count": null,
   "metadata": {},
   "outputs": [],
   "source": [
    "# Create model\n",
    "!gcloud ai-platform models create my_model"
   ]
  },
  {
   "cell_type": "code",
   "execution_count": 6,
   "metadata": {},
   "outputs": [
    {
     "name": "stdout",
     "output_type": "stream",
     "text": [
      "\u001b[1;33mWARNING:\u001b[0m Using endpoint [https://ml.googleapis.com/]\n",
      "Creating version (this might take a few minutes)......done.                    \n"
     ]
    }
   ],
   "source": [
    "# Deploy model for prediction\n",
    "!gcloud ai-platform versions create $VERSION_NAME \\\n",
    "  --model $MODEL_NAME \\\n",
    "  --origin $MODEL_DIR \\\n",
    "  --runtime-version=1.15 \\\n",
    "  --framework $FRAMEWORK \\\n",
    "  --python-version=3.7"
   ]
  },
  {
   "cell_type": "code",
   "execution_count": null,
   "metadata": {},
   "outputs": [],
   "source": []
  }
 ],
 "metadata": {
  "kernelspec": {
   "display_name": "google-cloud-env",
   "language": "python",
   "name": "google-cloud-env"
  },
  "language_info": {
   "codemirror_mode": {
    "name": "ipython",
    "version": 3
   },
   "file_extension": ".py",
   "mimetype": "text/x-python",
   "name": "python",
   "nbconvert_exporter": "python",
   "pygments_lexer": "ipython3",
   "version": "3.7.6"
  }
 },
 "nbformat": 4,
 "nbformat_minor": 4
}
