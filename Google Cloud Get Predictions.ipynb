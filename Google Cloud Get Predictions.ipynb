{
 "cells": [
  {
   "cell_type": "code",
   "execution_count": 1,
   "metadata": {},
   "outputs": [],
   "source": [
    "# Imports\n",
    "import googleapiclient\n",
    "from googleapiclient import discovery\n",
    "from tensorflow.keras.datasets import fashion_mnist\n",
    "import matplotlib.pyplot as plt\n",
    "import numpy as np"
   ]
  },
  {
   "cell_type": "code",
   "execution_count": 2,
   "metadata": {},
   "outputs": [
    {
     "name": "stdout",
     "output_type": "stream",
     "text": [
      "(10000, 28, 28)\n",
      "(10000,)\n"
     ]
    }
   ],
   "source": [
    "# Load Data (We are only using the test data in this notebook)\n",
    "(_, _), (x_test, y_test) = fashion_mnist.load_data()\n",
    "\n",
    "class_names = ['T-shirt/top', 'Trouser', 'Pullover', 'Dress', 'Coat',\n",
    "               'Sandal', 'Shirt', 'Sneaker', 'Bag', 'Ankle boot']\n",
    "\n",
    "print(x_test.shape)\n",
    "print(y_test.shape)"
   ]
  },
  {
   "cell_type": "code",
   "execution_count": 3,
   "metadata": {},
   "outputs": [
    {
     "data": {
      "image/png": "[encoded data removed]",
      "text/plain": [
       "<Figure size 432x288 with 2 Axes>"
      ]
     },
     "metadata": {
      "needs_background": "light"
     },
     "output_type": "display_data"
    },
    {
     "data": {
      "image/png": "[encoded data removed]",
      "text/plain": [
       "<Figure size 432x288 with 2 Axes>"
      ]
     },
     "metadata": {
      "needs_background": "light"
     },
     "output_type": "display_data"
    },
    {
     "data": {
      "text/plain": [
       "(None, None)"
      ]
     },
     "execution_count": 3,
     "metadata": {},
     "output_type": "execute_result"
    }
   ],
   "source": [
    "# Plot first two inputs before any preprocessing\n",
    "def plot_img(img):\n",
    "    plt.figure()\n",
    "    plt.imshow(img)\n",
    "    plt.colorbar()\n",
    "    plt.grid(False)\n",
    "    plt.show()\n",
    "plot_img(x_test[0]), plot_img(x_test[1])"
   ]
  },
  {
   "cell_type": "code",
   "execution_count": 4,
   "metadata": {},
   "outputs": [],
   "source": [
    "# Our model is expecting input of shape (None, 28, 28, 1) of float32s, scaled as follows:\n",
    "x_test = x_test.astype('float32')\n",
    "x_test = x_test / 255\n",
    "x_test = x_test.reshape(x_test.shape[0], x_test.shape[1], x_test.shape[2], 1)"
   ]
  },
  {
   "cell_type": "code",
   "execution_count": 5,
   "metadata": {},
   "outputs": [],
   "source": [
    "# Call this to get predictions\n",
    "def predict_json(project, model, instances, version=None):\n",
    "    \"\"\"Send json data to a deployed model for prediction.\n",
    "\n",
    "    Args:\n",
    "        project (str): project where the AI Platform Model is deployed.\n",
    "        model (str): model name.\n",
    "        instances ([Mapping[str: Any]]): Keys should be the names of Tensors\n",
    "            your deployed model expects as inputs. Values should be datatypes\n",
    "            convertible to Tensors, or (potentially nested) lists of datatypes\n",
    "            convertible to tensors.\n",
    "        version: str, version of the model to target.\n",
    "    Returns:\n",
    "        Mapping[str: any]: dictionary of prediction results defined by the\n",
    "            model.\n",
    "    \"\"\"\n",
    "    service = googleapiclient.discovery.build('ml', 'v1')\n",
    "    name = 'projects/{}/models/{}'.format(project, model)\n",
    "\n",
    "    if version is not None:\n",
    "        name += '/versions/{}'.format(version)\n",
    "\n",
    "    response = service.projects().predict(\n",
    "        name=name,\n",
    "        body={'instances': instances}\n",
    "    ).execute()\n",
    "\n",
    "    if 'error' in response:\n",
    "        raise RuntimeError(response['error'])\n",
    "\n",
    "    return response['predictions']"
   ]
  },
  {
   "cell_type": "code",
   "execution_count": 6,
   "metadata": {},
   "outputs": [
    {
     "name": "stdout",
     "output_type": "stream",
     "text": [
      "env: GOOGLE_APPLICATION_CREDENTIALS=/home/reg/Downloads/auth-file.json\n"
     ]
    }
   ],
   "source": [
    "# Set credentials environment variable\n",
    "%env GOOGLE_APPLICATION_CREDENTIALS=/home/reg/Downloads/auth-file.json"
   ]
  },
  {
   "cell_type": "code",
   "execution_count": 7,
   "metadata": {},
   "outputs": [
    {
     "name": "stdout",
     "output_type": "stream",
     "text": [
      "PROJECT_ID                 NAME                       PROJECT_NUMBER\n",
      "fir-setup-37e0b            FirebaseSetup              272296681318\n",
      "imagerectest-190218        imageRecTest               827628162379\n",
      "kerasdeploymenttutorial    KerasDeploymentTutorial    1067904841878\n",
      "new-project-276117         new-project                1067246621448\n",
      "pokemon-cover              Pokemon Cover              640080155091\n",
      "reading-firebase-database  Reading Firebase Database  750997412773\n"
     ]
    }
   ],
   "source": [
    "# List Project names (we're using new-project-276117)\n",
    "!gcloud projects list"
   ]
  },
  {
   "cell_type": "code",
   "execution_count": 13,
   "metadata": {},
   "outputs": [
    {
     "data": {
      "text/plain": [
       "[{'dense_2': [4.698009981041196e-09,\n",
       "   1.3637375673170027e-09,\n",
       "   2.139122878830335e-09,\n",
       "   1.0145645035208872e-07,\n",
       "   2.8348827729729464e-09,\n",
       "   0.0011451812461018562,\n",
       "   5.457192475688544e-09,\n",
       "   0.0010937289334833622,\n",
       "   1.3454819480784863e-08,\n",
       "   0.9977610111236572]},\n",
       " {'dense_2': [0.0006632948061451316,\n",
       "   4.203717196560319e-08,\n",
       "   0.9988897442817688,\n",
       "   1.9663693251459335e-07,\n",
       "   0.0001090291261789389,\n",
       "   5.4947331407095845e-11,\n",
       "   0.00033769255969673395,\n",
       "   4.330014125031312e-09,\n",
       "   3.7253156115468755e-09,\n",
       "   1.4893893410250492e-11]}]"
      ]
     },
     "execution_count": 13,
     "metadata": {},
     "output_type": "execute_result"
    }
   ],
   "source": [
    "## Get predictions for subset of data\n",
    "inp = x_test[:2]\n",
    "predictions = predict_json(\"new-project-276117\", \"my_model\", inp.tolist(), version=\"v2\")\n",
    "predictions"
   ]
  },
  {
   "cell_type": "code",
   "execution_count": 14,
   "metadata": {},
   "outputs": [
    {
     "name": "stdout",
     "output_type": "stream",
     "text": [
      "[9, 2]\n",
      "index 0 is a Ankle boot\n",
      "index 1 is a Pullover\n"
     ]
    }
   ],
   "source": [
    "# Our outputs are softmax layers - we need to take the argmax, and then convert it back to its word form\n",
    "def extract_predictions(predictions):\n",
    "    guesses = []\n",
    "    for dic in predictions:\n",
    "        guesses.append(np.argmax(dic['dense_2']))\n",
    "    return guesses\n",
    "\n",
    "guess_indicies = extract_predictions(predictions) # Extract guess indices from the cloud response\n",
    "print(guess_indicies)\n",
    "\n",
    "# Print a nice message for each prediction\n",
    "def print_guesses(guess_indices):\n",
    "    for i, index in enumerate(guess_indices):\n",
    "        print(\"index \" + str(i) + \" is a \" + class_names[index])\n",
    "\n",
    "print_guesses(guess_indicies)"
   ]
  },
  {
   "cell_type": "code",
   "execution_count": 15,
   "metadata": {},
   "outputs": [
    {
     "data": {
      "image/png": "[encoded data removed]",
      "text/plain": [
       "<Figure size 432x288 with 2 Axes>"
      ]
     },
     "metadata": {
      "needs_background": "light"
     },
     "output_type": "display_data"
    },
    {
     "data": {
      "image/png": "[encoded data removed]",
      "text/plain": [
       "<Figure size 432x288 with 2 Axes>"
      ]
     },
     "metadata": {
      "needs_background": "light"
     },
     "output_type": "display_data"
    },
    {
     "data": {
      "text/plain": [
       "(None, None)"
      ]
     },
     "execution_count": 15,
     "metadata": {},
     "output_type": "execute_result"
    }
   ],
   "source": [
    "plot_img(x_test[0].reshape(28, 28)), plot_img(x_test[1].reshape(28, 28))"
   ]
  }
 ],
 "metadata": {
  "kernelspec": {
   "display_name": "gcloud",
   "language": "python",
   "name": "gcloud"
  },
  "language_info": {
   "codemirror_mode": {
    "name": "ipython",
    "version": 3
   },
   "file_extension": ".py",
   "mimetype": "text/x-python",
   "name": "python",
   "nbconvert_exporter": "python",
   "pygments_lexer": "ipython3",
   "version": "3.7.7"
  }
 },
 "nbformat": 4,
 "nbformat_minor": 4
}
