{
 "cells": [
  {
   "cell_type": "code",
   "execution_count": 1,
   "metadata": {},
   "outputs": [],
   "source": [
    "# Imports \n",
    "import tensorflow as tf\n",
    "from tensorflow import keras\n",
    "from tensorflow.keras.datasets import fashion_mnist\n",
    "import matplotlib.pyplot as plt"
   ]
  },
  {
   "cell_type": "code",
   "execution_count": 2,
   "metadata": {},
   "outputs": [
    {
     "name": "stdout",
     "output_type": "stream",
     "text": [
      "(60000, 28, 28) (60000,) (10000, 28, 28) (10000,)\n"
     ]
    }
   ],
   "source": [
    "# Load Data\n",
    "data = fashion_mnist.load_data()\n",
    "(train_x, train_y), (test_x, test_y) = data\n",
    "\n",
    "print(train_x.shape, train_y.shape, test_x.shape, test_y.shape)"
   ]
  },
  {
   "cell_type": "code",
   "execution_count": 3,
   "metadata": {},
   "outputs": [],
   "source": [
    "class_names = ['T-shirt/top', 'Trouser', 'Pullover', 'Dress', 'Coat',\n",
    "               'Sandal', 'Shirt', 'Sneaker', 'Bag', 'Ankle boot']"
   ]
  },
  {
   "cell_type": "code",
   "execution_count": 4,
   "metadata": {},
   "outputs": [
    {
     "data": {
      "image/png": "[encoded data removed]",
      "text/plain": [
       "<Figure size 432x288 with 2 Axes>"
      ]
     },
     "metadata": {
      "needs_background": "light"
     },
     "output_type": "display_data"
    },
    {
     "data": {
      "image/png": "[encoded data removed]",
      "text/plain": [
       "<Figure size 432x288 with 2 Axes>"
      ]
     },
     "metadata": {
      "needs_background": "light"
     },
     "output_type": "display_data"
    },
    {
     "data": {
      "text/plain": [
       "(None, None)"
      ]
     },
     "execution_count": 4,
     "metadata": {},
     "output_type": "execute_result"
    }
   ],
   "source": [
    "# Plot first two inputs before any preprocessing\n",
    "def plot_img(img):\n",
    "    plt.figure()\n",
    "    plt.imshow(img)\n",
    "    plt.colorbar()\n",
    "    plt.grid(False)\n",
    "    plt.show()\n",
    "plot_img(train_x[0]), plot_img(train_x[1])"
   ]
  },
  {
   "cell_type": "code",
   "execution_count": 5,
   "metadata": {},
   "outputs": [],
   "source": [
    "# Transform data\n",
    "train_x = train_x.reshape(train_x.shape[0], 28, 28, 1)\n",
    "test_x = test_x.reshape(test_x.shape[0], 28, 28, 1)\n",
    "\n",
    "train_y = keras.utils.to_categorical(train_y, num_classes=10)\n",
    "test_y = keras.utils.to_categorical(test_y, num_classes=10)\n",
    "\n",
    "train_x = train_x.astype('float32')\n",
    "test_x = test_x.astype('float32')\n",
    "\n",
    "train_x = train_x / 255\n",
    "test_x = test_x / 255"
   ]
  },
  {
   "cell_type": "code",
   "execution_count": 6,
   "metadata": {},
   "outputs": [
    {
     "name": "stdout",
     "output_type": "stream",
     "text": [
      "Model: \"sequential\"\n",
      "_________________________________________________________________\n",
      "Layer (type)                 Output Shape              Param #   \n",
      "=================================================================\n",
      "conv2d (Conv2D)              (None, 25, 25, 15)        255       \n",
      "_________________________________________________________________\n",
      "max_pooling2d (MaxPooling2D) (None, 12, 12, 15)        0         \n",
      "_________________________________________________________________\n",
      "batch_normalization (BatchNo (None, 12, 12, 15)        60        \n",
      "_________________________________________________________________\n",
      "conv2d_1 (Conv2D)            (None, 9, 9, 30)          7230      \n",
      "_________________________________________________________________\n",
      "max_pooling2d_1 (MaxPooling2 (None, 4, 4, 30)          0         \n",
      "_________________________________________________________________\n",
      "batch_normalization_1 (Batch (None, 4, 4, 30)          120       \n",
      "_________________________________________________________________\n",
      "flatten (Flatten)            (None, 480)               0         \n",
      "_________________________________________________________________\n",
      "dense (Dense)                (None, 64)                30784     \n",
      "_________________________________________________________________\n",
      "dropout (Dropout)            (None, 64)                0         \n",
      "_________________________________________________________________\n",
      "dense_1 (Dense)              (None, 16)                1040      \n",
      "_________________________________________________________________\n",
      "dropout_1 (Dropout)          (None, 16)                0         \n",
      "_________________________________________________________________\n",
      "dense_2 (Dense)              (None, 10)                170       \n",
      "=================================================================\n",
      "Total params: 39,659\n",
      "Trainable params: 39,569\n",
      "Non-trainable params: 90\n",
      "_________________________________________________________________\n",
      "None\n"
     ]
    }
   ],
   "source": [
    "## Create Keras Sequential CNN\n",
    "model = keras.Sequential()\n",
    "model.add(keras.layers.Input(shape=(28,28,1)))\n",
    "model.add(keras.layers.Conv2D(filters=15, kernel_size=4))\n",
    "model.add(keras.layers.MaxPool2D())\n",
    "model.add(keras.layers.BatchNormalization())\n",
    "model.add(keras.layers.Conv2D(filters=30, kernel_size=4))\n",
    "model.add(keras.layers.MaxPool2D())\n",
    "model.add(keras.layers.BatchNormalization())\n",
    "model.add(keras.layers.Flatten())\n",
    "model.add(keras.layers.Dense(64, activation='relu'))\n",
    "model.add(keras.layers.Dropout(.2))\n",
    "model.add(keras.layers.Dense(16, activation='relu'))\n",
    "model.add(keras.layers.Dropout(.2))\n",
    "model.add(keras.layers.Dense(10, activation='softmax'))\n",
    "\n",
    "print(model.summary())"
   ]
  },
  {
   "cell_type": "code",
   "execution_count": 7,
   "metadata": {},
   "outputs": [],
   "source": [
    "# Compile the model\n",
    "model.compile(optimizer='adam', loss='categorical_crossentropy', metrics=['accuracy'])"
   ]
  },
  {
   "cell_type": "code",
   "execution_count": 8,
   "metadata": {},
   "outputs": [
    {
     "data": {
      "text/plain": [
       "(60000, 28, 28, 1)"
      ]
     },
     "execution_count": 8,
     "metadata": {},
     "output_type": "execute_result"
    }
   ],
   "source": [
    "train_x.shape"
   ]
  },
  {
   "cell_type": "code",
   "execution_count": 9,
   "metadata": {},
   "outputs": [
    {
     "data": {
      "text/plain": [
       "(60000, 10)"
      ]
     },
     "execution_count": 9,
     "metadata": {},
     "output_type": "execute_result"
    }
   ],
   "source": [
    "train_y.shape"
   ]
  },
  {
   "cell_type": "code",
   "execution_count": 10,
   "metadata": {},
   "outputs": [
    {
     "name": "stdout",
     "output_type": "stream",
     "text": [
      "Train on 60000 samples, validate on 10000 samples\n",
      "Epoch 1/25\n",
      "60000/60000 [==============================] - 17s 281us/sample - loss: 1.5219 - accuracy: 0.4704 - val_loss: 1.9650 - val_accuracy: 0.6161\n",
      "Epoch 2/25\n",
      "60000/60000 [==============================] - 18s 307us/sample - loss: 0.9616 - accuracy: 0.6660 - val_loss: 1.7810 - val_accuracy: 0.5894\n",
      "Epoch 3/25\n",
      "60000/60000 [==============================] - 19s 324us/sample - loss: 0.7635 - accuracy: 0.7296 - val_loss: 1.6029 - val_accuracy: 0.5334\n",
      "Epoch 4/25\n",
      "60000/60000 [==============================] - 24s 395us/sample - loss: 0.6583 - accuracy: 0.7669 - val_loss: 1.4761 - val_accuracy: 0.4901\n",
      "Epoch 5/25\n",
      "60000/60000 [==============================] - 22s 363us/sample - loss: 0.5970 - accuracy: 0.7904 - val_loss: 1.3656 - val_accuracy: 0.4980\n",
      "Epoch 6/25\n",
      "60000/60000 [==============================] - 23s 390us/sample - loss: 0.5527 - accuracy: 0.8071 - val_loss: 1.2302 - val_accuracy: 0.5216\n",
      "Epoch 7/25\n",
      "60000/60000 [==============================] - 15s 257us/sample - loss: 0.5208 - accuracy: 0.8186 - val_loss: 1.0667 - val_accuracy: 0.5900\n",
      "Epoch 8/25\n",
      "60000/60000 [==============================] - 12s 202us/sample - loss: 0.4952 - accuracy: 0.8277 - val_loss: 0.9922 - val_accuracy: 0.6178\n",
      "Epoch 9/25\n",
      "60000/60000 [==============================] - 17s 288us/sample - loss: 0.4724 - accuracy: 0.8366 - val_loss: 0.8522 - val_accuracy: 0.6758\n",
      "Epoch 10/25\n",
      "60000/60000 [==============================] - 17s 282us/sample - loss: 0.4619 - accuracy: 0.8399 - val_loss: 0.7784 - val_accuracy: 0.7044\n",
      "Epoch 11/25\n",
      "60000/60000 [==============================] - 17s 291us/sample - loss: 0.4410 - accuracy: 0.8471 - val_loss: 0.6379 - val_accuracy: 0.7522\n",
      "Epoch 12/25\n",
      "60000/60000 [==============================] - 18s 303us/sample - loss: 0.4296 - accuracy: 0.8521 - val_loss: 0.5557 - val_accuracy: 0.7869\n",
      "Epoch 13/25\n",
      "60000/60000 [==============================] - 18s 306us/sample - loss: 0.4144 - accuracy: 0.8583 - val_loss: 0.4843 - val_accuracy: 0.8200\n",
      "Epoch 14/25\n",
      "60000/60000 [==============================] - 17s 280us/sample - loss: 0.4034 - accuracy: 0.8617 - val_loss: 0.4441 - val_accuracy: 0.8327\n",
      "Epoch 15/25\n",
      "60000/60000 [==============================] - 16s 272us/sample - loss: 0.3944 - accuracy: 0.8631 - val_loss: 0.4206 - val_accuracy: 0.8434\n",
      "Epoch 16/25\n",
      "60000/60000 [==============================] - 17s 288us/sample - loss: 0.3836 - accuracy: 0.8670 - val_loss: 0.3821 - val_accuracy: 0.8591\n",
      "Epoch 17/25\n",
      "60000/60000 [==============================] - 17s 286us/sample - loss: 0.3754 - accuracy: 0.8707 - val_loss: 0.3632 - val_accuracy: 0.8663\n",
      "Epoch 18/25\n",
      "60000/60000 [==============================] - 18s 293us/sample - loss: 0.3685 - accuracy: 0.8730 - val_loss: 0.3477 - val_accuracy: 0.8740\n",
      "Epoch 19/25\n",
      "60000/60000 [==============================] - 16s 272us/sample - loss: 0.3611 - accuracy: 0.8754 - val_loss: 0.3389 - val_accuracy: 0.8759\n",
      "Epoch 20/25\n",
      "60000/60000 [==============================] - 17s 289us/sample - loss: 0.3558 - accuracy: 0.8770 - val_loss: 0.3418 - val_accuracy: 0.8755\n",
      "Epoch 21/25\n",
      "60000/60000 [==============================] - 17s 287us/sample - loss: 0.3522 - accuracy: 0.8773 - val_loss: 0.3270 - val_accuracy: 0.8816\n",
      "Epoch 22/25\n",
      "60000/60000 [==============================] - 17s 285us/sample - loss: 0.3474 - accuracy: 0.8793 - val_loss: 0.3439 - val_accuracy: 0.8767\n",
      "Epoch 23/25\n",
      "60000/60000 [==============================] - 17s 286us/sample - loss: 0.3384 - accuracy: 0.8823 - val_loss: 0.3278 - val_accuracy: 0.8842\n",
      "Epoch 24/25\n",
      "60000/60000 [==============================] - 17s 288us/sample - loss: 0.3316 - accuracy: 0.8846 - val_loss: 0.3251 - val_accuracy: 0.8845\n",
      "Epoch 25/25\n",
      "60000/60000 [==============================] - 17s 286us/sample - loss: 0.3265 - accuracy: 0.8865 - val_loss: 0.3391 - val_accuracy: 0.8788\n"
     ]
    },
    {
     "data": {
      "text/plain": [
       "<tensorflow.python.keras.callbacks.History at 0x7f6ef5952150>"
      ]
     },
     "execution_count": 10,
     "metadata": {},
     "output_type": "execute_result"
    }
   ],
   "source": [
    "# Train the model\n",
    "model.fit(train_x, train_y, validation_data=(test_x, test_y), batch_size=2048, epochs=25)"
   ]
  },
  {
   "cell_type": "code",
   "execution_count": 12,
   "metadata": {},
   "outputs": [
    {
     "name": "stdout",
     "output_type": "stream",
     "text": [
      "WARNING:tensorflow:From /home/reg/anaconda3/envs/python-default/lib/python3.7/site-packages/tensorflow_core/python/ops/resource_variable_ops.py:1786: calling BaseResourceVariable.__init__ (from tensorflow.python.ops.resource_variable_ops) with constraint is deprecated and will be removed in a future version.\n",
      "Instructions for updating:\n",
      "If using Keras pass *_constraint arguments to layers.\n",
      "INFO:tensorflow:Assets written to: ./my_model/assets\n"
     ]
    }
   ],
   "source": [
    "# Save model into directory 'my_model'\n",
    "keras.models.save_model(model,'./my_model')"
   ]
  },
  {
   "cell_type": "code",
   "execution_count": 13,
   "metadata": {},
   "outputs": [
    {
     "data": {
      "text/plain": [
       "array([[4.6980095e-09, 1.3637377e-09, 2.1391227e-09, ..., 1.0937278e-03,\n",
       "        1.3454794e-08, 9.9776101e-01],\n",
       "       [6.6329510e-04, 4.2037090e-08, 9.9888974e-01, ..., 4.3300137e-09,\n",
       "        3.7253085e-09, 1.4893838e-11],\n",
       "       [2.5905276e-09, 1.0000000e+00, 2.0820825e-14, ..., 3.8745542e-16,\n",
       "        3.2547228e-15, 6.7939877e-16],\n",
       "       ...,\n",
       "       [6.2333443e-04, 2.3058878e-07, 9.8730343e-06, ..., 5.2536898e-06,\n",
       "        9.9865723e-01, 2.5878066e-07],\n",
       "       [1.5719917e-06, 9.9999785e-01, 9.4260699e-10, ..., 9.6233273e-12,\n",
       "        5.4065776e-11, 3.2131856e-11],\n",
       "       [8.5062289e-04, 4.1498392e-05, 5.2707089e-04, ..., 3.7686130e-01,\n",
       "        1.3755905e-03, 2.3258154e-03]], dtype=float32)"
      ]
     },
     "execution_count": 13,
     "metadata": {},
     "output_type": "execute_result"
    }
   ],
   "source": [
    "# Confirm saved model works after reloading\n",
    "loaded_model = keras.models.load_model('./my_model')\n",
    "loaded_model.predict(test_x)"
   ]
  }
 ],
 "metadata": {
  "kernelspec": {
   "display_name": "python-default",
   "language": "python",
   "name": "python-default"
  },
  "language_info": {
   "codemirror_mode": {
    "name": "ipython",
    "version": 3
   },
   "file_extension": ".py",
   "mimetype": "text/x-python",
   "name": "python",
   "nbconvert_exporter": "python",
   "pygments_lexer": "ipython3",
   "version": "3.7.7"
  }
 },
 "nbformat": 4,
 "nbformat_minor": 4
}
